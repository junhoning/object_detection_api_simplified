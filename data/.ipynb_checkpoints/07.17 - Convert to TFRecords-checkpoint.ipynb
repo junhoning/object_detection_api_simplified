{
 "cells": [
  {
   "cell_type": "code",
   "execution_count": 1,
   "metadata": {},
   "outputs": [
    {
     "name": "stderr",
     "output_type": "stream",
     "text": [
      "C:\\Users\\junhoning\\Anaconda3\\lib\\site-packages\\h5py\\__init__.py:36: FutureWarning: Conversion of the second argument of issubdtype from `float` to `np.floating` is deprecated. In future, it will be treated as `np.float64 == np.dtype(float).type`.\n",
      "  from ._conv import register_converters as _register_converters\n"
     ]
    }
   ],
   "source": [
    "import os\n",
    "from glob import glob\n",
    "from scipy.io import loadmat\n",
    "import pandas as pd\n",
    "import numpy as np\n",
    "import json\n",
    "from PIL import Image\n",
    "import io\n",
    "\n",
    "from tqdm import tqdm\n",
    "\n",
    "import pandas as pd\n",
    "\n",
    "import matplotlib.pyplot as plt\n",
    "import tensorflow as tf\n",
    "\n",
    "% matplotlib inline"
   ]
  },
  {
   "cell_type": "code",
   "execution_count": 8,
   "metadata": {},
   "outputs": [],
   "source": [
    "mat_path = 'mpii_human_pose_v1_u12_1.mat'\n",
    "image_datas = glob('mpii_samples/*.jpg')\n",
    "mat = loadmat(mat_path)"
   ]
  },
  {
   "cell_type": "code",
   "execution_count": 9,
   "metadata": {},
   "outputs": [],
   "source": [
    "def get_head_rect(path):\n",
    "    path_name = os.path.basename(path)\n",
    "\n",
    "    file_n = 0\n",
    "    found = False\n",
    "    while found == False:\n",
    "        anno = mat['RELEASE']['annolist'][0, 0][0][file_n]\n",
    "    #     anno['annorect'].dtype\n",
    "        filename = anno['image']['name'][0, 0][0]\n",
    "        if filename == path_name:\n",
    "            found = True\n",
    "\n",
    "        file_n += 1\n",
    "\n",
    "    if 'x1' in str(anno['annorect'].dtype):\n",
    "        head_rect = (True, [\n",
    "            [x1[0, 0] for x1 in anno['annorect']['x1'][0]],\n",
    "            [y1[0, 0] for y1 in anno['annorect']['y1'][0]],\n",
    "            [x2[0, 0] for x2 in anno['annorect']['x2'][0]],\n",
    "            [y2[0, 0] for y2 in anno['annorect']['y2'][0]]])\n",
    "    else:\n",
    "        head_rect = (False, [[0], [0], [0], [0]])\n",
    "        \n",
    "    return head_rect"
   ]
  },
  {
   "cell_type": "code",
   "execution_count": 10,
   "metadata": {},
   "outputs": [],
   "source": [
    "def _int64_feature(value):\n",
    "    \"\"\"Wrapper for inserting int64 features into Example proto.\"\"\"\n",
    "    if not isinstance(value, list):\n",
    "        value = [value]\n",
    "    return tf.train.Feature(int64_list=tf.train.Int64List(value=value))\n",
    "\n",
    "def _float_feature(value):\n",
    "    \"\"\"Wrapper for inserting float features into Example proto.\"\"\"\n",
    "    if not isinstance(value, list):\n",
    "        value = [value]\n",
    "    return tf.train.Feature(float_list=tf.train.FloatList(value=value))\n",
    "\n",
    "def _bytes_feature(value):\n",
    "    \"\"\"Wrapper for inserting bytes features into Example proto.\"\"\"\n",
    "    if not isinstance(value, list):\n",
    "        value = [value]\n",
    "    return tf.train.Feature(bytes_list=tf.train.BytesList(value=value))"
   ]
  },
  {
   "cell_type": "code",
   "execution_count": 11,
   "metadata": {},
   "outputs": [],
   "source": [
    "tfrecords_name = 'facenet.tfrecords'\n",
    "\n",
    "# options = tf.python_io.TFRecordOptions(tf.python_io.TFRecordCompressionType.GZIP)\n",
    "writer = tf.python_io.TFRecordWriter(path=tfrecords_name)"
   ]
  },
  {
   "cell_type": "code",
   "execution_count": 12,
   "metadata": {
    "scrolled": false
   },
   "outputs": [
    {
     "name": "stderr",
     "output_type": "stream",
     "text": [
      "8it [00:00, 20.05it/s]\n"
     ]
    }
   ],
   "source": [
    "df_concat = []\n",
    "for n, path in tqdm(enumerate(image_datas)):    \n",
    "    head_exit, head_rect = get_head_rect(path)\n",
    "    \n",
    "    head_rect = np.array(head_rect, dtype=np.int64).tolist()\n",
    "    \n",
    "    if head_exit:\n",
    "        with tf.gfile.GFile(path, 'rb') as fid:\n",
    "            encoded_jpg = fid.read()\n",
    "        encoded_jpg_io = io.BytesIO(encoded_jpg)\n",
    "        image = Image.open(encoded_jpg_io)\n",
    "        \n",
    "        \n",
    "        data = Image.open(path)  # .convert('RGB')\n",
    "        image = np.array(data)\n",
    "\n",
    "        height = image.shape[0]\n",
    "        width = image.shape[1]\n",
    "\n",
    "        filename = os.path.basename(path)\n",
    "        image_format = 'jpg'.encode()\n",
    "        \n",
    "\n",
    "        x_min = (np.array(head_rect[0]) / width).tolist()\n",
    "        x_max = (np.array(head_rect[2]) / width).tolist()\n",
    "        y_min = (np.array(head_rect[1]) / height).tolist()\n",
    "        y_max = (np.array(head_rect[3]) / height).tolist()\n",
    "\n",
    "        classes_text = [str.encode('face')] * len(x_min)\n",
    "        classes = [1 for label in x_min]\n",
    "        \n",
    "        string_set = tf.train.Example(features=tf.train.Features(feature={\n",
    "            'image/filename': _bytes_feature(filename.encode()),\n",
    "            'image/height': _int64_feature(height),\n",
    "            'image/width': _int64_feature(width),\n",
    "            # tf.compat.as_bytes(image.tostring())\n",
    "            'image/encoded': _bytes_feature(encoded_jpg),\n",
    "            'image/source_id': _bytes_feature(image_format),\n",
    "\n",
    "            'image/object/bbox/xmin': _float_feature(x_min),\n",
    "            'image/object/bbox/xmax': _float_feature(x_max),\n",
    "            'image/object/bbox/ymin': _float_feature(y_min),\n",
    "            'image/object/bbox/ymax': _float_feature(y_max),\n",
    "            'image/object/class/text': _bytes_feature(classes_text),\n",
    "            'image/object/class/label': _int64_feature(classes),\n",
    "        }))\n",
    "\n",
    "        writer.write(string_set.SerializeToString())\n",
    "\n",
    "writer.close()"
   ]
  },
  {
   "cell_type": "code",
   "execution_count": null,
   "metadata": {},
   "outputs": [],
   "source": []
  }
 ],
 "metadata": {
  "kernelspec": {
   "display_name": "Python 3",
   "language": "python",
   "name": "python3"
  },
  "language_info": {
   "codemirror_mode": {
    "name": "ipython",
    "version": 3
   },
   "file_extension": ".py",
   "mimetype": "text/x-python",
   "name": "python",
   "nbconvert_exporter": "python",
   "pygments_lexer": "ipython3",
   "version": "3.6.5"
  }
 },
 "nbformat": 4,
 "nbformat_minor": 2
}
